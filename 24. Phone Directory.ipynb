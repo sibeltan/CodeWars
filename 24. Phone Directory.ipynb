{
 "cells": [
  {
   "cell_type": "markdown",
   "metadata": {},
   "source": [
    "## 24. Phone Directory\n",
    "\n",
    "John keeps a backup of his old personal phone book as a text file. On each line of the file he can find the phone number (formated as +X-abc-def-ghij where X stands for one or two digits), the corresponding name between < and > and the address.\n",
    "\n",
    "Unfortunately everything is mixed, things are not always in the same order; parts of lines are cluttered with non-alpha-numeric characters (except inside phone number and name).\n",
    "\n",
    "Examples of John's phone book lines:\n",
    "\n",
    "\"/+1-541-754-3010 156 Alphand_St. <J Steeve>\\n\"\n",
    "\n",
    "\" 133, Green, Rd. <E Kustur> NY-56423 ;+1-541-914-3010!\\n\"\n",
    "\n",
    "\"<Anastasia> +48-421-674-8974 Via Quirinal Roma\\n\"\n",
    "\n",
    "Could you help John with a program that, given the lines of his phone book and a phone number num returns a string for this number : \"Phone => num, Name => name, Address => adress\"\n",
    "\n",
    "Examples:\n",
    "\n",
    "s = \"/+1-541-754-3010 156 Alphand_St. <J Steeve>\\n 133, Green, Rd. <E Kustur> NY-56423 ;+1-541-914-3010!\\n\"\n",
    "\n",
    "phone(s, \"1-541-754-3010\") should return \"Phone => 1-541-754-3010, Name => J Steeve, Address => 156 Alphand St.\"\n",
    "It can happen that there are many people for a phone number num, then\n",
    "\n",
    "return : \"Error => Too many people: num\"\n",
    "\n",
    "or it can happen that the number num is not in the phone book, in that case\n",
    "\n",
    "return: \"Error => Not found: num\""
   ]
  },
  {
   "cell_type": "code",
   "execution_count": 9,
   "metadata": {},
   "outputs": [],
   "source": [
    "from re import sub\n",
    "\n",
    "def phone(strng, num):\n",
    "\n",
    "    if strng.count(\"+\" + num) > 1:\n",
    "        return \"Error => Too many people: \" + num\n",
    "        \n",
    "    if strng.count(\"+\" + num) == 0:\n",
    "        return \"Error => Not found: \" + num\n",
    "    \n",
    "    for line in strng.splitlines():\n",
    "        if \"+\" + num in line:\n",
    "            name = sub(\".*<(.*)>.*\", \"\\g<1>\", line)\n",
    "#             print(name)\n",
    "            line = sub(\"<\" + name + \">|\\+\" + num, \"\", line)\n",
    "#             print(line)\n",
    "            address = \" \".join(sub(\"[^a-zA-Z0-9\\.-]\", \" \", line).split())\n",
    "#             print(address)\n",
    "            return \"Phone => %s, Name => %s, Address => %s\" % (num, name, address)"
   ]
  },
  {
   "cell_type": "code",
   "execution_count": 10,
   "metadata": {},
   "outputs": [
    {
     "data": {
      "text/plain": [
       "'Phone => 1-541-754-3010, Name => J Steeve, Address => 156 Alphand St.'"
      ]
     },
     "execution_count": 10,
     "metadata": {},
     "output_type": "execute_result"
    }
   ],
   "source": [
    "# testing\n",
    "s = \"/+1-541-754-3010 156 Alphand_St. <J Steeve>\\n 133, Green, Rd. <E Kustur> NY-56423 ;+1-541-914-3010!\\n\"\n",
    "\n",
    "phone(s, \"1-541-754-3010\")"
   ]
  },
  {
   "cell_type": "code",
   "execution_count": 13,
   "metadata": {},
   "outputs": [
    {
     "name": "stdout",
     "output_type": "stream",
     "text": [
      "Phone => 48-421-674-8974, Name => Anastasia, Address => Via Quirinal Roma\n",
      "Phone => 1-921-512-2222, Name => Wilfrid Stevens, Address => Wild Street AA-67209\n",
      "Phone => 1-908-512-2222, Name => Peter O'Brien, Address => High Street CC-47209\n",
      "Phone => 1-541-754-3010, Name => J Steeve, Address => 156 Alphand St.\n",
      "Phone => 1-121-504-8974, Name => Arthur Clarke, Address => San Antonio TT-45120\n",
      "Phone => 1-498-512-2222, Name => Bernard Deltheil, Address => Mount Av. Eldorado\n",
      "Error => Too many people: 1-098-512-2222\n",
      "Error => Not found: 5-555-555-5555\n"
     ]
    }
   ],
   "source": [
    "# testing\n",
    "dr = (\"/+1-541-754-3010 156 Alphand_St. <J Steeve>\\n 133, Green, Rd. <E Kustur> NY-56423 ;+1-541-914-3010;\\n\"\n",
    "\"+1-541-984-3012 <P Reed> /PO Box 530; Pollocksville, NC-28573\\n :+1-321-512-2222 <Paul Dive> Sequoia Alley PQ-67209\\n\"\n",
    "\"+1-741-984-3090 <Peter Reedgrave> _Chicago\\n :+1-921-333-2222 <Anna Stevens> Haramburu_Street AA-67209\\n\"\n",
    "\"+1-111-544-8973 <Peter Pan> LA\\n +1-921-512-2222 <Wilfrid Stevens> Wild Street AA-67209\\n\"\n",
    "\"<Peter Gone> LA ?+1-121-544-8974 \\n <R Steell> Quora Street AB-47209 +1-481-512-2222!\\n\"\n",
    "\"<Arthur Clarke> San Antonio $+1-121-504-8974 TT-45120\\n <Ray Chandler> Teliman Pk. !+1-681-512-2222! AB-47209,\\n\"\n",
    "\"<Sophia Loren> +1-421-674-8974 Bern TP-46017\\n <Peter O'Brien> High Street +1-908-512-2222; CC-47209\\n\"\n",
    "\"<Anastasia> +48-421-674-8974 Via Quirinal Roma\\n <P Salinger> Main Street, +1-098-512-2222, Denver\\n\"\n",
    "\"<C Powel> *+19-421-674-8974 Chateau des Fosses Strasbourg F-68000\\n <Bernard Deltheil> +1-498-512-2222; Mount Av. Eldorado\\n\"\n",
    "\"+1-099-500-8000 <Peter Crush> Labrador Bd.\\n +1-931-512-4855 <William Saurin> Bison Street CQ-23071\\n\"\n",
    "\"<P Salinge> Main Street, +1-098-512-2222, Denve\\n\")\n",
    "\n",
    "print(phone(dr, \"48-421-674-8974\"))\n",
    "print(phone(dr, \"1-921-512-2222\"))\n",
    "print(phone(dr, \"1-908-512-2222\"))\n",
    "print(phone(dr, \"1-541-754-3010\"))\n",
    "print(phone(dr, \"1-121-504-8974\"))\n",
    "print(phone(dr, \"1-498-512-2222\"))\n",
    "print(phone(dr, \"1-098-512-2222\"))\n",
    "print(phone(dr, \"5-555-555-5555\"))"
   ]
  }
 ],
 "metadata": {
  "kernelspec": {
   "display_name": "Python 3",
   "language": "python",
   "name": "python3"
  },
  "language_info": {
   "codemirror_mode": {
    "name": "ipython",
    "version": 3
   },
   "file_extension": ".py",
   "mimetype": "text/x-python",
   "name": "python",
   "nbconvert_exporter": "python",
   "pygments_lexer": "ipython3",
   "version": "3.7.7"
  }
 },
 "nbformat": 4,
 "nbformat_minor": 2
}
