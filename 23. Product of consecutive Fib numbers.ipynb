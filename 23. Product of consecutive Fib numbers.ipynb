{
 "cells": [
  {
   "cell_type": "markdown",
   "metadata": {},
   "source": [
    "### 23. Product of consecutive Fib numbers\n",
    "The Fibonacci numbers are the numbers in the following integer sequence (Fn):\n",
    "\n",
    "0, 1, 1, 2, 3, 5, 8, 13, 21, 34, 55, 89, 144, 233, ...\n",
    "\n",
    "such as\n",
    "\n",
    "F(n) = F(n-1) + F(n-2) with F(0) = 0 and F(1) = 1.\n",
    "\n",
    "Given a number, say prod (for product), we search two Fibonacci numbers F(n) and F(n+1) verifying\n",
    "\n",
    "F(n) * F(n+1) = prod.\n",
    "\n",
    "Your function productFib takes an integer (prod) and returns an array:\n",
    "\n",
    "[F(n), F(n+1), true] or {F(n), F(n+1), 1} or (F(n), F(n+1), True)\n",
    "depending on the language if F(n) * F(n+1) = prod.\n",
    "\n",
    "If you don't find two consecutive F(m) verifying F(m) * F(m+1) = prodyou will return\n",
    "\n",
    "[F(m), F(m+1), false] or {F(n), F(n+1), 0} or (F(n), F(n+1), False)\n",
    "F(m) being the smallest one such as F(m) * F(m+1) > prod."
   ]
  },
  {
   "cell_type": "code",
   "execution_count": 2,
   "metadata": {},
   "outputs": [],
   "source": [
    "def productFib(prod):\n",
    "    first = 0\n",
    "    second = 1\n",
    "    while (first * second < prod):\n",
    "        first, second = (second, second + first)\n",
    " \n",
    "    return [first, second, first*second == prod]"
   ]
  },
  {
   "cell_type": "code",
   "execution_count": 3,
   "metadata": {},
   "outputs": [
    {
     "data": {
      "text/plain": [
       "[55, 89, True]"
      ]
     },
     "execution_count": 3,
     "metadata": {},
     "output_type": "execute_result"
    }
   ],
   "source": [
    "# testing\n",
    "productFib(4895)"
   ]
  },
  {
   "cell_type": "code",
   "execution_count": 4,
   "metadata": {},
   "outputs": [
    {
     "data": {
      "text/plain": [
       "[89, 144, False]"
      ]
     },
     "execution_count": 4,
     "metadata": {},
     "output_type": "execute_result"
    }
   ],
   "source": [
    "# testing\n",
    "productFib(5895)"
   ]
  }
 ],
 "metadata": {
  "kernelspec": {
   "display_name": "Python 3",
   "language": "python",
   "name": "python3"
  },
  "language_info": {
   "codemirror_mode": {
    "name": "ipython",
    "version": 3
   },
   "file_extension": ".py",
   "mimetype": "text/x-python",
   "name": "python",
   "nbconvert_exporter": "python",
   "pygments_lexer": "ipython3",
   "version": "3.7.7"
  }
 },
 "nbformat": 4,
 "nbformat_minor": 2
}
