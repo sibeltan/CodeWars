{
 "cells": [
  {
   "cell_type": "markdown",
   "metadata": {},
   "source": [
    "## CodeWars Challenges"
   ]
  },
  {
   "cell_type": "markdown",
   "metadata": {},
   "source": [
    "### 1. Stop gninnipS My sdroW!\n",
    "Write a function that takes in a string of one or more words, and returns the same string, but with all five or more letter words reversed (Just like the name of this Kata). Strings passed in will consist of only letters and spaces. Spaces will be included only when more than one word is present."
   ]
  },
  {
   "cell_type": "code",
   "execution_count": 5,
   "metadata": {},
   "outputs": [
    {
     "data": {
      "text/plain": [
       "'Hey wollef sroirraw'"
      ]
     },
     "execution_count": 5,
     "metadata": {},
     "output_type": "execute_result"
    }
   ],
   "source": [
    "# define a function that takes string argument\n",
    "def spin_words(sentence): \n",
    "    # split the input into words and assign to a new list\n",
    "    words = sentence.split(' ')\n",
    "    # define a placeholder string for output\n",
    "    new_sentence = ''\n",
    "    # loop through the words within the words list\n",
    "    for word in words:\n",
    "        # check if there are 5 or more characters in word\n",
    "        if len(word) >= 5:\n",
    "            # define a placeholder string for reversed long word\n",
    "            reversed = ''\n",
    "            # loop through the characters in long word\n",
    "            for char in word:\n",
    "                # add characters to placeholder string in reversed order\n",
    "                reversed = char + reversed\n",
    "            # check if output string is still empty\n",
    "            if new_sentence == '':\n",
    "                # add reversed word to new sentence without tab separator\n",
    "                new_sentence = new_sentence + reversed\n",
    "            else:\n",
    "                # add reversed word to new sentence with tab separator\n",
    "                new_sentence = new_sentence + ' ' + reversed\n",
    "        # less than 5 characters in word\n",
    "        else: \n",
    "            # check if out put string is still empty\n",
    "            if new_sentence == '':\n",
    "                # add original word to new sentence without tab separator\n",
    "                new_sentence = new_sentence + word\n",
    "            else:\n",
    "                # add original word to new sentence with tab separator\n",
    "                new_sentence = new_sentence + ' ' + word\n",
    "    # return the output\n",
    "    return new_sentence\n",
    "\n",
    "spin_words( \"Hey fellow warriors\" )"
   ]
  },
  {
   "cell_type": "markdown",
   "metadata": {},
   "source": [
    "### 2. Create Phone Number\n",
    "Write a function that accepts an array of 10 integers (between 0 and 9), that returns a string of those numbers in the form of a phone number."
   ]
  },
  {
   "cell_type": "code",
   "execution_count": 6,
   "metadata": {},
   "outputs": [
    {
     "data": {
      "text/plain": [
       "'(123) 456-7890'"
      ]
     },
     "execution_count": 6,
     "metadata": {},
     "output_type": "execute_result"
    }
   ],
   "source": [
    "# define a function that takes array argument\n",
    "def create_phone_number(n):\n",
    "    # get first three digits as string\n",
    "    first = \"\".join(map(str, n[0:3]))\n",
    "    # get second three digits as string\n",
    "    second = \"\".join(map(str, n[3:6]))\n",
    "    # get remaining four digits as string\n",
    "    third = \"\".join(map(str, n[6:10]))\n",
    "    # merge all digits in phone format and return the result\n",
    "    return \"({}) {}-{}\".format(first, second, third)\n",
    "    \n",
    "create_phone_number([1, 2, 3, 4, 5, 6, 7, 8, 9, 0])"
   ]
  }
 ],
 "metadata": {
  "kernelspec": {
   "display_name": "Python 3",
   "language": "python",
   "name": "python3"
  },
  "language_info": {
   "codemirror_mode": {
    "name": "ipython",
    "version": 3
   },
   "file_extension": ".py",
   "mimetype": "text/x-python",
   "name": "python",
   "nbconvert_exporter": "python",
   "pygments_lexer": "ipython3",
   "version": "3.7.7"
  }
 },
 "nbformat": 4,
 "nbformat_minor": 2
}
