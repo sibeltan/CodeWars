{
 "cells": [
  {
   "cell_type": "markdown",
   "metadata": {},
   "source": [
    "## 3. Get Planet Name by ID"
   ]
  },
  {
   "cell_type": "code",
   "execution_count": 1,
   "metadata": {},
   "outputs": [],
   "source": [
    "def get_planet_name(id):\n",
    "    # create a dictionary of id/planet pairs\n",
    "    switcher = {\n",
    "        1: \"Mercury\",\n",
    "        2: \"Venus\",\n",
    "        3: \"Earth\",\n",
    "        4: \"Mars\",\n",
    "        5: \"Jupiter\",\n",
    "        6: \"Saturn\",\n",
    "        7: \"Uranus\", \n",
    "        8: \"Neptune\"\n",
    "        }\n",
    "    # return the planet name\n",
    "    return switcher.get(id, \"Invalid ID, try again...\")"
   ]
  },
  {
   "cell_type": "code",
   "execution_count": 2,
   "metadata": {},
   "outputs": [
    {
     "data": {
      "text/plain": [
       "'Earth'"
      ]
     },
     "execution_count": 2,
     "metadata": {},
     "output_type": "execute_result"
    }
   ],
   "source": [
    "# testing\n",
    "get_planet_name(3)"
   ]
  }
 ],
 "metadata": {
  "kernelspec": {
   "display_name": "Python 3",
   "language": "python",
   "name": "python3"
  },
  "language_info": {
   "codemirror_mode": {
    "name": "ipython",
    "version": 3
   },
   "file_extension": ".py",
   "mimetype": "text/x-python",
   "name": "python",
   "nbconvert_exporter": "python",
   "pygments_lexer": "ipython3",
   "version": "3.7.7"
  }
 },
 "nbformat": 4,
 "nbformat_minor": 2
}
