{
 "cells": [
  {
   "cell_type": "markdown",
   "metadata": {},
   "source": [
    "### 2. Create Phone Number\n",
    "Write a function that accepts an array of 10 integers (between 0 and 9), that returns a string of those numbers in the form of a phone number."
   ]
  },
  {
   "cell_type": "code",
   "execution_count": 3,
   "metadata": {},
   "outputs": [],
   "source": [
    "# define a function that takes array argument\n",
    "def create_phone_number(n):\n",
    "    # get first three digits as string\n",
    "    first = \"\".join(map(str, n[0:3]))\n",
    "    # get second three digits as string\n",
    "    second = \"\".join(map(str, n[3:6]))\n",
    "    # get remaining four digits as string\n",
    "    third = \"\".join(map(str, n[6:10]))\n",
    "    # merge all digits in phone format and return the result\n",
    "    return \"({}) {}-{}\".format(first, second, third)"
   ]
  },
  {
   "cell_type": "code",
   "execution_count": 5,
   "metadata": {},
   "outputs": [
    {
     "data": {
      "text/plain": [
       "'(123) 456-7890'"
      ]
     },
     "execution_count": 5,
     "metadata": {},
     "output_type": "execute_result"
    }
   ],
   "source": [
    "# testing\n",
    "create_phone_number([1, 2, 3, 4, 5, 6, 7, 8, 9, 0])"
   ]
  }
 ],
 "metadata": {
  "kernelspec": {
   "display_name": "Python 3",
   "language": "python",
   "name": "python3"
  },
  "language_info": {
   "codemirror_mode": {
    "name": "ipython",
    "version": 3
   },
   "file_extension": ".py",
   "mimetype": "text/x-python",
   "name": "python",
   "nbconvert_exporter": "python",
   "pygments_lexer": "ipython3",
   "version": "3.7.7"
  }
 },
 "nbformat": 4,
 "nbformat_minor": 2
}
