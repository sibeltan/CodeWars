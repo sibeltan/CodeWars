{
 "cells": [
  {
   "cell_type": "markdown",
   "metadata": {},
   "source": [
    "### 17. Sort the odd\n",
    "You have an array of numbers.\n",
    "Your task is to sort ascending odd numbers but even numbers must be on their places.\n",
    "Zero isn't an odd number and you don't need to move it. If you have an empty array, you need to return it."
   ]
  },
  {
   "cell_type": "code",
   "execution_count": 1,
   "metadata": {},
   "outputs": [],
   "source": [
    "def sort_array(source_array):\n",
    "\n",
    "    if len(source_array) == 0:\n",
    "        return source_array\n",
    "        \n",
    "    for i in range(len(source_array)):\n",
    "        if source_array[i] % 2 == 1:\n",
    "            odd_index = i\n",
    "            current_index = i-1\n",
    "            while(current_index >= 0):\n",
    "                if source_array[current_index] % 2 == 1:\n",
    "                    if source_array[current_index] > source_array[odd_index]:\n",
    "                        temp = source_array[current_index]\n",
    "                        source_array[current_index] = source_array[odd_index]\n",
    "                        source_array[odd_index] = temp\n",
    "                        odd_index = current_index\n",
    "                current_index -= 1\n",
    "                \n",
    "    return source_array"
   ]
  },
  {
   "cell_type": "code",
   "execution_count": 2,
   "metadata": {},
   "outputs": [
    {
     "data": {
      "text/plain": [
       "[1, 3, 2, 8, 5, 4]"
      ]
     },
     "execution_count": 2,
     "metadata": {},
     "output_type": "execute_result"
    }
   ],
   "source": [
    "# testing\n",
    "sort_array([5, 3, 2, 8, 1, 4])"
   ]
  },
  {
   "cell_type": "code",
   "execution_count": 6,
   "metadata": {},
   "outputs": [],
   "source": [
    "# Much better solution\n",
    "def sort_array(arr):\n",
    "  odds = sorted((x for x in arr if x%2 != 0), reverse=True)\n",
    "  # print(odds)\n",
    "  return [x if x%2==0 else odds.pop() for x in arr]"
   ]
  },
  {
   "cell_type": "code",
   "execution_count": 7,
   "metadata": {},
   "outputs": [
    {
     "data": {
      "text/plain": [
       "[1, 3, 2, 8, 5, 4]"
      ]
     },
     "execution_count": 7,
     "metadata": {},
     "output_type": "execute_result"
    }
   ],
   "source": [
    "# testing\n",
    "sort_array([5, 3, 2, 8, 1, 4])"
   ]
  }
 ],
 "metadata": {
  "kernelspec": {
   "display_name": "Python 3",
   "language": "python",
   "name": "python3"
  },
  "language_info": {
   "codemirror_mode": {
    "name": "ipython",
    "version": 3
   },
   "file_extension": ".py",
   "mimetype": "text/x-python",
   "name": "python",
   "nbconvert_exporter": "python",
   "pygments_lexer": "ipython3",
   "version": "3.7.7"
  }
 },
 "nbformat": 4,
 "nbformat_minor": 2
}
