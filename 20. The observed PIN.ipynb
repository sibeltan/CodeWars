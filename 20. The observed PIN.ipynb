{
 "cells": [
  {
   "cell_type": "markdown",
   "metadata": {},
   "source": [
    "### 20. The observed PIN\n",
    "\n",
    "Alright, detective, one of our colleagues successfully observed our target person, Robby the robber. We followed him to a secret warehouse, where we assume to find all the stolen stuff. The door to this warehouse is secured by an electronic combination lock. Unfortunately our spy isn't sure about the PIN he saw, when Robby entered it.\n",
    "\n",
    "The keypad has the following layout:\n",
    "\n",
    "┌───┬───┬───┐\n",
    "│ 1 │ 2 │ 3 │\n",
    "├───┼───┼───┤\n",
    "│ 4 │ 5 │ 6 │\n",
    "├───┼───┼───┤\n",
    "│ 7 │ 8 │ 9 │\n",
    "└───┼───┼───┘\n",
    "    │ 0 │\n",
    "    └───┘\n",
    "\n",
    "He noted the PIN 1357, but he also said, it is possible that each of the digits he saw could actually be another adjacent digit (horizontally or vertically, but not diagonally). E.g. instead of the 1 it could also be the 2 or 4. And instead of the 5 it could also be the 2, 4, 6 or 8.\n",
    "\n",
    "He also mentioned, he knows this kind of locks. You can enter an unlimited amount of wrong PINs, they never finally lock the system or sound the alarm. That's why we can try out all possible (*) variations.\n",
    "\n",
    "* possible in sense of: the observed PIN itself and all variations considering the adjacent digits\n",
    "\n",
    "Can you help us to find all those variations? It would be nice to have a function, that returns an array (or a list in Java and C#) of all variations for an observed PIN with a length of 1 to 8 digits. We could name the function getPINs (get_pins in python, GetPINs in C#). But please note that all PINs, the observed one and also the results, must be strings, because of potentially leading '0's. We already prepared some test cases for you.\n",
    "\n",
    "Detective, we count on you!"
   ]
  },
  {
   "cell_type": "code",
   "execution_count": 1,
   "metadata": {},
   "outputs": [],
   "source": [
    "import itertools\n",
    "\n",
    "def get_pins(observed):\n",
    "  \n",
    "  adjacents = {\n",
    "    '0': '08',\n",
    "    '1': '124',\n",
    "    '2': '2135',\n",
    "    '3': '326',\n",
    "    '4': '4157',\n",
    "    '5': '52468',\n",
    "    '6': '6359',\n",
    "    '7': '748',\n",
    "    '8': '85790',\n",
    "    '9': '968'\n",
    "    }\n",
    "  \n",
    "  products = itertools.product(*([adjacents[digit] for digit in observed]))\n",
    "  return [''.join(p) for p in products]"
   ]
  },
  {
   "cell_type": "code",
   "execution_count": 2,
   "metadata": {},
   "outputs": [
    {
     "name": "stdout",
     "output_type": "stream",
     "text": [
      "['1357', '1354', '1358', '1327', '1324', '1328', '1347', '1344', '1348', '1367', '1364', '1368', '1387', '1384', '1388', '1257', '1254', '1258', '1227', '1224', '1228', '1247', '1244', '1248', '1267', '1264', '1268', '1287', '1284', '1288', '1657', '1654', '1658', '1627', '1624', '1628', '1647', '1644', '1648', '1667', '1664', '1668', '1687', '1684', '1688', '2357', '2354', '2358', '2327', '2324', '2328', '2347', '2344', '2348', '2367', '2364', '2368', '2387', '2384', '2388', '2257', '2254', '2258', '2227', '2224', '2228', '2247', '2244', '2248', '2267', '2264', '2268', '2287', '2284', '2288', '2657', '2654', '2658', '2627', '2624', '2628', '2647', '2644', '2648', '2667', '2664', '2668', '2687', '2684', '2688', '4357', '4354', '4358', '4327', '4324', '4328', '4347', '4344', '4348', '4367', '4364', '4368', '4387', '4384', '4388', '4257', '4254', '4258', '4227', '4224', '4228', '4247', '4244', '4248', '4267', '4264', '4268', '4287', '4284', '4288', '4657', '4654', '4658', '4627', '4624', '4628', '4647', '4644', '4648', '4667', '4664', '4668', '4687', '4684', '4688']\n"
     ]
    }
   ],
   "source": [
    "# testing\n",
    "print(get_pins('1357'))"
   ]
  }
 ],
 "metadata": {
  "kernelspec": {
   "display_name": "Python 3",
   "language": "python",
   "name": "python3"
  },
  "language_info": {
   "codemirror_mode": {
    "name": "ipython",
    "version": 3
   },
   "file_extension": ".py",
   "mimetype": "text/x-python",
   "name": "python",
   "nbconvert_exporter": "python",
   "pygments_lexer": "ipython3",
   "version": "3.7.7"
  }
 },
 "nbformat": 4,
 "nbformat_minor": 2
}
