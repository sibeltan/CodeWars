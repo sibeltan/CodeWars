{
 "cells": [
  {
   "cell_type": "markdown",
   "metadata": {},
   "source": [
    "## CodeWars Challenges"
   ]
  },
  {
   "cell_type": "markdown",
   "metadata": {},
   "source": [
    "### 1. Stop gninnipS My sdroW!\n",
    "Write a function that takes in a string of one or more words, and returns the same string, but with all five or more letter words reversed (Just like the name of this Kata). Strings passed in will consist of only letters and spaces. Spaces will be included only when more than one word is present."
   ]
  },
  {
   "cell_type": "code",
   "execution_count": 5,
   "metadata": {},
   "outputs": [
    {
     "data": {
      "text/plain": [
       "'Hey wollef sroirraw'"
      ]
     },
     "execution_count": 5,
     "metadata": {},
     "output_type": "execute_result"
    }
   ],
   "source": [
    "# define a function that takes string argument\n",
    "def spin_words(sentence): \n",
    "    # split the input into words and assign to a new list\n",
    "    words = sentence.split(' ')\n",
    "    # define a placeholder string for output\n",
    "    new_sentence = ''\n",
    "    # loop through the words within the words list\n",
    "    for word in words:\n",
    "        # check if there are 5 or more characters in word\n",
    "        if len(word) >= 5:\n",
    "            # define a placeholder string for reversed long word\n",
    "            reversed = ''\n",
    "            # loop through the characters in long word\n",
    "            for char in word:\n",
    "                # add characters to placeholder string in reversed order\n",
    "                reversed = char + reversed\n",
    "            # check if output string is still empty\n",
    "            if new_sentence == '':\n",
    "                # add reversed word to new sentence without tab separator\n",
    "                new_sentence = new_sentence + reversed\n",
    "            else:\n",
    "                # add reversed word to new sentence with tab separator\n",
    "                new_sentence = new_sentence + ' ' + reversed\n",
    "        # less than 5 characters in word\n",
    "        else: \n",
    "            # check if out put string is still empty\n",
    "            if new_sentence == '':\n",
    "                # add original word to new sentence without tab separator\n",
    "                new_sentence = new_sentence + word\n",
    "            else:\n",
    "                # add original word to new sentence with tab separator\n",
    "                new_sentence = new_sentence + ' ' + word\n",
    "    # return the output\n",
    "    return new_sentence\n",
    "\n",
    "spin_words( \"Hey fellow warriors\" )"
   ]
  },
  {
   "cell_type": "markdown",
   "metadata": {},
   "source": [
    "### 2. Create Phone Number\n",
    "Write a function that accepts an array of 10 integers (between 0 and 9), that returns a string of those numbers in the form of a phone number."
   ]
  },
  {
   "cell_type": "code",
   "execution_count": 6,
   "metadata": {},
   "outputs": [
    {
     "data": {
      "text/plain": [
       "'(123) 456-7890'"
      ]
     },
     "execution_count": 6,
     "metadata": {},
     "output_type": "execute_result"
    }
   ],
   "source": [
    "# define a function that takes array argument\n",
    "def create_phone_number(n):\n",
    "    # get first three digits as string\n",
    "    first = \"\".join(map(str, n[0:3]))\n",
    "    # get second three digits as string\n",
    "    second = \"\".join(map(str, n[3:6]))\n",
    "    # get remaining four digits as string\n",
    "    third = \"\".join(map(str, n[6:10]))\n",
    "    # merge all digits in phone format and return the result\n",
    "    return \"({}) {}-{}\".format(first, second, third)\n",
    "    \n",
    "create_phone_number([1, 2, 3, 4, 5, 6, 7, 8, 9, 0])"
   ]
  },
  {
   "cell_type": "markdown",
   "metadata": {},
   "source": [
    "## 3. Get Planet Name by ID"
   ]
  },
  {
   "cell_type": "code",
   "execution_count": 7,
   "metadata": {},
   "outputs": [
    {
     "data": {
      "text/plain": [
       "'Earth'"
      ]
     },
     "execution_count": 7,
     "metadata": {},
     "output_type": "execute_result"
    }
   ],
   "source": [
    "def get_planet_name(id):\n",
    "    # create a dictionary of id/planet pairs\n",
    "    switcher = {\n",
    "        1: \"Mercury\",\n",
    "        2: \"Venus\",\n",
    "        3: \"Earth\",\n",
    "        4: \"Mars\",\n",
    "        5: \"Jupiter\",\n",
    "        6: \"Saturn\",\n",
    "        7: \"Uranus\", \n",
    "        8: \"Neptune\"\n",
    "        }\n",
    "    # return the planet name\n",
    "    return switcher.get(id, \"Invalid ID, try again...\")\n",
    "    \n",
    "get_planet_name(3)"
   ]
  },
  {
   "cell_type": "markdown",
   "metadata": {},
   "source": [
    "## 4. Binary Addition"
   ]
  },
  {
   "cell_type": "markdown",
   "metadata": {},
   "source": [
    "Implement a function that adds two numbers together and returns their sum in binary. The conversion can be done before, or after the addition.\n",
    "The binary number returned should be a string."
   ]
  },
  {
   "cell_type": "code",
   "execution_count": 9,
   "metadata": {},
   "outputs": [
    {
     "data": {
      "text/plain": [
       "'110011110111111001101011101000011110111111100001111100100110001010'"
      ]
     },
     "execution_count": 9,
     "metadata": {},
     "output_type": "execute_result"
    }
   ],
   "source": [
    "def add_binary(a,b):\n",
    "    # return binary string of sum\n",
    "    return \"{0:b}\".format(a+b)\n",
    "    \n",
    "add_binary(334385498689532,59805690239201687950)"
   ]
  },
  {
   "cell_type": "markdown",
   "metadata": {},
   "source": [
    "## 5. Sum of Two Lowest Possible Integers\n",
    "Create a function that returns the sum of the two lowest positive numbers given an array of minimum 4 positive integers. No floats or non-positive integers will be passed."
   ]
  },
  {
   "cell_type": "code",
   "execution_count": 18,
   "metadata": {},
   "outputs": [
    {
     "data": {
      "text/plain": [
       "7"
      ]
     },
     "execution_count": 18,
     "metadata": {},
     "output_type": "execute_result"
    }
   ],
   "source": [
    "def sum_two_smallest_numbers(numbers):\n",
    "   return sorted(numbers)[0] + sorted(numbers)[1]\n",
    "   \n",
    "sum_two_smallest_numbers([19, 5, 42, 2, 77])"
   ]
  },
  {
   "cell_type": "markdown",
   "metadata": {},
   "source": [
    "## 6. Beginner Series #3 Sum of Numbers\n",
    "Given two integers a and b, which can be positive or negative, find the sum of all the numbers between including them too and return it. If the two numbers are equal return a or b."
   ]
  },
  {
   "cell_type": "code",
   "execution_count": 19,
   "metadata": {},
   "outputs": [
    {
     "data": {
      "text/plain": [
       "25"
      ]
     },
     "execution_count": 19,
     "metadata": {},
     "output_type": "execute_result"
    }
   ],
   "source": [
    "def get_sum(a,b):\n",
    "    sum = 0\n",
    "    if a == b:\n",
    "        sum = b\n",
    "    else:\n",
    "        for i in range (min(a,b),(max(a,b)+1)):\n",
    "            sum += i\n",
    "    return sum\n",
    "\n",
    "get_sum(7,3)"
   ]
  },
  {
   "cell_type": "markdown",
   "metadata": {},
   "source": [
    "## 7. Mumbling\n",
    "This time no story, no theory. The examples below show you how to write function accum:  \n",
    "Examples:  \n",
    "accum(\"abcd\") -> \"A-Bb-Ccc-Dddd\"  \n",
    "accum(\"RqaEzty\") -> \"R-Qq-Aaa-Eeee-Zzzzz-Tttttt-Yyyyyyy\"  \n",
    "accum(\"cwAt\") -> \"C-Ww-Aaa-Tttt\""
   ]
  },
  {
   "cell_type": "code",
   "execution_count": 20,
   "metadata": {},
   "outputs": [],
   "source": [
    "def accum(s):\n",
    "    result = \"\"\n",
    "    for i in range(len(s)):\n",
    "        result += (s[i]*(i+1)+\"-\").lower().capitalize()\n",
    "    return result[:-1]"
   ]
  },
  {
   "cell_type": "markdown",
   "metadata": {},
   "source": [
    "## 8. Simple Pig Latin\n",
    "Implement a function likes :: [String] -> String, which must take in input array, containing the names of people who like an item. It must return the display text as shown in the examples:"
   ]
  },
  {
   "cell_type": "code",
   "execution_count": 24,
   "metadata": {},
   "outputs": [
    {
     "data": {
      "text/plain": [
       "'igPay atinlay siay oolcay'"
      ]
     },
     "execution_count": 24,
     "metadata": {},
     "output_type": "execute_result"
    }
   ],
   "source": [
    "import string\n",
    "\n",
    "def pig_it(text):\n",
    "  words = text.split(\" \")\n",
    "  result = \"\"\n",
    "  for word in words:\n",
    "      if word not in string.punctuation:\n",
    "         result += word[1:] + word[0] + \"ay \"\n",
    "      else:\n",
    "        result += word\n",
    "  return result.rstrip()  \n",
    "\n",
    "pig_it(\"Pig latin is cool\")"
   ]
  },
  {
   "cell_type": "markdown",
   "metadata": {},
   "source": [
    "## 9. Convert string to camel case\n",
    "Complete the method/function so that it converts dash/underscore delimited words into camel casing. The first word within the output should be capitalized only if the original word was capitalized (known as Upper Camel Case, also often referred to as Pascal case)."
   ]
  },
  {
   "cell_type": "code",
   "execution_count": 26,
   "metadata": {},
   "outputs": [],
   "source": [
    "import re\n",
    "\n",
    "def to_camel_case(text):\n",
    "    words = re.split('-|_',text)\n",
    "    return words[0] + ''.join(word.capitalize() for word in words[1:])"
   ]
  },
  {
   "cell_type": "code",
   "execution_count": 27,
   "metadata": {},
   "outputs": [
    {
     "data": {
      "text/plain": [
       "'TheStealthWarrior'"
      ]
     },
     "execution_count": 27,
     "metadata": {},
     "output_type": "execute_result"
    }
   ],
   "source": [
    "to_camel_case(\"The_Stealth_Warrior\")"
   ]
  },
  {
   "cell_type": "markdown",
   "metadata": {},
   "source": [
    "## 10. Detect Panagram\n",
    "A pangram is a sentence that contains every single letter of the alphabet at least once. For example, the sentence \"The quick brown fox jumps over the lazy dog\" is a pangram, because it uses the letters A-Z at least once (case is irrelevant).\n",
    "\n",
    "Given a string, detect whether or not it is a pangram. Return True if it is, False if not. Ignore numbers and punctuation."
   ]
  },
  {
   "cell_type": "code",
   "execution_count": 30,
   "metadata": {},
   "outputs": [],
   "source": [
    "import string\n",
    "\n",
    "def is_pangram(s):\n",
    "    pangram = \"abcdefghijklmnopqrstuwxyz\"\n",
    "    for char in pangram:\n",
    "        if char not in s.lower():\n",
    "            return False\n",
    "    return True"
   ]
  },
  {
   "cell_type": "code",
   "execution_count": 31,
   "metadata": {},
   "outputs": [
    {
     "data": {
      "text/plain": [
       "True"
      ]
     },
     "execution_count": 31,
     "metadata": {},
     "output_type": "execute_result"
    }
   ],
   "source": [
    "is_pangram(\"The quick brown fox jumps over the lazy dog\")"
   ]
  },
  {
   "cell_type": "code",
   "execution_count": 32,
   "metadata": {},
   "outputs": [
    {
     "data": {
      "text/plain": [
       "False"
      ]
     },
     "execution_count": 32,
     "metadata": {},
     "output_type": "execute_result"
    }
   ],
   "source": [
    "is_pangram(\"The quick brown fox jumps over the lazy cat\")"
   ]
  }
 ],
 "metadata": {
  "kernelspec": {
   "display_name": "Python 3",
   "language": "python",
   "name": "python3"
  },
  "language_info": {
   "codemirror_mode": {
    "name": "ipython",
    "version": 3
   },
   "file_extension": ".py",
   "mimetype": "text/x-python",
   "name": "python",
   "nbconvert_exporter": "python",
   "pygments_lexer": "ipython3",
   "version": "3.7.7"
  }
 },
 "nbformat": 4,
 "nbformat_minor": 2
}
