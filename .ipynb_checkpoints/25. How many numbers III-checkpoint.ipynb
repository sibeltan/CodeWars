{
 "cells": [
  {
   "cell_type": "markdown",
   "metadata": {},
   "source": [
    "## 25. How Many Numers III?\n",
    "\n",
    "We want to generate all the numbers of three digits where:\n",
    "\n",
    "the sum of their digits is equal to 10.\n",
    "\n",
    "their digits are in increasing order (the numbers may have two or more equal contiguous digits)\n",
    "\n",
    "The numbers that fulfill the two above constraints are: 118, 127, 136, 145, 226, 235, 244, 334\n",
    "\n",
    "Make a function that receives two arguments:\n",
    "\n",
    "the sum of digits value\n",
    "\n",
    "the desired number of digits for the numbers\n",
    "\n",
    "The function should output an array with three values: [1,2,3]\n",
    "\n",
    "1 - the total number of possible numbers\n",
    "\n",
    "2 - the minimum number\n",
    "\n",
    "3 - the maximum number\n",
    "\n",
    "The example given above should be:\n",
    "\n",
    "find_all(10, 3) == [8, 118, 334]\n",
    "If we have only one possible number as a solution, it should output a result like the one below:\n",
    "\n",
    "find_all(27, 3) == [1, 999, 999]\n",
    "If there are no possible numbers, the function should output the empty array.\n",
    "\n",
    "find_all(84, 4) == []\n",
    "The number of solutions climbs up when the number of digits increases.\n",
    "\n",
    "find_all(35, 6) == [123, 116999, 566666]\n",
    "Features of the random tests:\n",
    "\n",
    "Number of tests: 112\n",
    "Sum of digits value between 20 and 65\n",
    "Amount of digits between 2 and 17"
   ]
  },
  {
   "cell_type": "code",
   "execution_count": 35,
   "metadata": {},
   "outputs": [],
   "source": [
    "from itertools import combinations_with_replacement\n",
    "\n",
    "def find_all(sum_dig, digs):\n",
    "    combinations = list(combinations_with_replacement(list(range(1, 10)), digs))\n",
    "    result = []\n",
    "    \n",
    "    for comb in combinations:\n",
    "        if sum(list(comb)) == sum_dig:\n",
    "            result.append(int(\"\".join(str(c) for c in list(comb))))\n",
    "            \n",
    "    if len(result) == 0:\n",
    "        return result\n",
    "    return [len(result), min(result), max(result)]"
   ]
  },
  {
   "cell_type": "code",
   "execution_count": 37,
   "metadata": {},
   "outputs": [
    {
     "data": {
      "text/plain": [
       "[8, 118, 334]"
      ]
     },
     "execution_count": 37,
     "metadata": {},
     "output_type": "execute_result"
    }
   ],
   "source": [
    "# testing\n",
    "find_all(10,3)"
   ]
  },
  {
   "cell_type": "code",
   "execution_count": 38,
   "metadata": {},
   "outputs": [
    {
     "data": {
      "text/plain": [
       "[1, 999, 999]"
      ]
     },
     "execution_count": 38,
     "metadata": {},
     "output_type": "execute_result"
    }
   ],
   "source": [
    "# testing\n",
    "find_all(27, 3)"
   ]
  },
  {
   "cell_type": "code",
   "execution_count": 39,
   "metadata": {},
   "outputs": [
    {
     "data": {
      "text/plain": [
       "[]"
      ]
     },
     "execution_count": 39,
     "metadata": {},
     "output_type": "execute_result"
    }
   ],
   "source": [
    "# testing\n",
    "find_all(84, 4)"
   ]
  },
  {
   "cell_type": "code",
   "execution_count": 40,
   "metadata": {},
   "outputs": [
    {
     "data": {
      "text/plain": [
       "[123, 116999, 566666]"
      ]
     },
     "execution_count": 40,
     "metadata": {},
     "output_type": "execute_result"
    }
   ],
   "source": [
    "# testing\n",
    "find_all(35, 6)"
   ]
  }
 ],
 "metadata": {
  "kernelspec": {
   "display_name": "Python 3",
   "language": "python",
   "name": "python3"
  },
  "language_info": {
   "codemirror_mode": {
    "name": "ipython",
    "version": 3
   },
   "file_extension": ".py",
   "mimetype": "text/x-python",
   "name": "python",
   "nbconvert_exporter": "python",
   "pygments_lexer": "ipython3",
   "version": "3.7.7"
  }
 },
 "nbformat": 4,
 "nbformat_minor": 2
}
