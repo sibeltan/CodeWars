{
 "cells": [
  {
   "cell_type": "markdown",
   "metadata": {},
   "source": [
    "### 1. Are they the \"same\"?\n",
    "Given two arrays a and b write a function comp(a, b) (compSame(a, b) in Clojure) that checks whether the two arrays have the \"same\" elements, with the same multiplicities. \"Same\" means, here, that the elements in b are the elements in a squared, regardless of the order."
   ]
  },
  {
   "cell_type": "code",
   "execution_count": 27,
   "metadata": {},
   "outputs": [],
   "source": [
    "# First solution\n",
    "# This was my first solution which needs tremendeous amount of refactoring!\n",
    "\n",
    "import numpy as np\n",
    "\n",
    "def comp(array1, array2):\n",
    "    if array1 is None or array2 is None:\n",
    "        return False\n",
    "        \n",
    "    for num in array2:\n",
    "        num_sqrt = np.sqrt(num)\n",
    "        pos_found = num_sqrt in array1\n",
    "        neg_found = False\n",
    "        \n",
    "        if pos_found == False:\n",
    "            neg_found = -num_sqrt in array1\n",
    "                \n",
    "        if pos_found == False and neg_found == False:\n",
    "            return False        \n",
    "        \n",
    "        if pos_found == True:\n",
    "            array1.remove(num_sqrt)\n",
    "            \n",
    "        if neg_found == True:\n",
    "            array1.remove(-num_sqrt)\n",
    "                      \n",
    "    return True"
   ]
  },
  {
   "cell_type": "code",
   "execution_count": 28,
   "metadata": {},
   "outputs": [
    {
     "data": {
      "text/plain": [
       "True"
      ]
     },
     "execution_count": 28,
     "metadata": {},
     "output_type": "execute_result"
    }
   ],
   "source": [
    "comp([1, 2, -2, 4, 0], [1, 4, 16, 4, 0])"
   ]
  },
  {
   "cell_type": "code",
   "execution_count": 29,
   "metadata": {},
   "outputs": [
    {
     "data": {
      "text/plain": [
       "False"
      ]
     },
     "execution_count": 29,
     "metadata": {},
     "output_type": "execute_result"
    }
   ],
   "source": [
    "comp([86, 95], [7397, 9025])"
   ]
  },
  {
   "cell_type": "code",
   "execution_count": 30,
   "metadata": {},
   "outputs": [],
   "source": [
    "# Much better solution\n",
    "def comp(array1, array2):\n",
    "    return None not in (array1, array2) and [i^2 for i in sorted(array1)] == sorted(array2)"
   ]
  },
  {
   "cell_type": "code",
   "execution_count": 31,
   "metadata": {},
   "outputs": [
    {
     "data": {
      "text/plain": [
       "False"
      ]
     },
     "execution_count": 31,
     "metadata": {},
     "output_type": "execute_result"
    }
   ],
   "source": [
    "comp([1, 2, -2, 4, 0], [1, 4, 16, 4, 0])"
   ]
  },
  {
   "cell_type": "code",
   "execution_count": 32,
   "metadata": {},
   "outputs": [
    {
     "data": {
      "text/plain": [
       "False"
      ]
     },
     "execution_count": 32,
     "metadata": {},
     "output_type": "execute_result"
    }
   ],
   "source": [
    "comp([86, 95], [7397, 9025])"
   ]
  },
  {
   "cell_type": "markdown",
   "metadata": {},
   "source": [
    "### 2. Persistent Bugger.\n",
    "Write a function, persistence, that takes in a positive parameter num and returns its multiplicative persistence, which is the number of times you must multiply the digits in num until you reach a single digit."
   ]
  },
  {
   "cell_type": "code",
   "execution_count": 65,
   "metadata": {},
   "outputs": [],
   "source": [
    "def persistence(num):\n",
    "    count = 0\n",
    "    while(len(str(num)) > 1):\n",
    "        result = 1\n",
    "        for i in str(num):\n",
    "            result = result * int(i)\n",
    "        num = result\n",
    "        count+=1\n",
    "    return count"
   ]
  },
  {
   "cell_type": "code",
   "execution_count": 66,
   "metadata": {},
   "outputs": [
    {
     "data": {
      "text/plain": [
       "2"
      ]
     },
     "execution_count": 66,
     "metadata": {},
     "output_type": "execute_result"
    }
   ],
   "source": [
    "persistence(396285)"
   ]
  },
  {
   "cell_type": "markdown",
   "metadata": {},
   "source": [
    "### 3. Find the missing letter\n",
    "\n",
    "Write a method that takes an array of consecutive (increasing) letters as input and that returns the missing letter in the array.\n",
    "You will always get an valid array. And it will be always exactly one letter be missing. The length of the array will always be at least 2.\n",
    "The array will always contain letters in only one case.\n",
    "Example:\n",
    "['a','b','c','d','f'] -> 'e' ['O','Q','R','S'] -> 'P'"
   ]
  },
  {
   "cell_type": "code",
   "execution_count": 69,
   "metadata": {},
   "outputs": [],
   "source": [
    "def find_missing_letter(chars):\n",
    "    for i in range(len(chars)):\n",
    "        if ord(chars[i+1]) != ord(chars[i]) + 1:\n",
    "            return chr(ord(chars[i]) + 1)"
   ]
  },
  {
   "cell_type": "code",
   "execution_count": 70,
   "metadata": {},
   "outputs": [
    {
     "data": {
      "text/plain": [
       "'e'"
      ]
     },
     "execution_count": 70,
     "metadata": {},
     "output_type": "execute_result"
    }
   ],
   "source": [
    "find_missing_letter(['a','b','c','d','f'])"
   ]
  },
  {
   "cell_type": "markdown",
   "metadata": {},
   "source": [
    "### 4. Weight for weight\n",
    "\n",
    "My friend John and I are members of the \"Fat to Fit Club (FFC)\". John is worried because each month a list with the weights of members is published and each month he is the last on the list which means he is the heaviest.\n",
    "I am the one who establishes the list so I told him: \"Don't worry any more, I will modify the order of the list\". It was decided to attribute a \"weight\" to numbers. The weight of a number will be from now on the sum of its digits.\n",
    "For example 99 will have \"weight\" 18, 100 will have \"weight\" 1 so in the list 100 will come before 99. Given a string with the weights of FFC members in normal order can you give this string ordered by \"weights\" of these numbers?"
   ]
  },
  {
   "cell_type": "code",
   "execution_count": 79,
   "metadata": {},
   "outputs": [],
   "source": [
    "def order_weight(strng):\n",
    "    sorted_nums = sorted(strng.split())\n",
    "    sorted_nums_by_weight = sorted(sorted_nums, key = calc_weight)\n",
    "    return \" \".join(sorted_nums_by_weight)\n",
    "\n",
    "def calc_weight(numbers):\n",
    "    return sum([int(i) for i in numbers])"
   ]
  },
  {
   "cell_type": "code",
   "execution_count": 82,
   "metadata": {},
   "outputs": [
    {
     "data": {
      "text/plain": [
       "'100000 11 123 115111 1450 99 1397 18498'"
      ]
     },
     "execution_count": 82,
     "metadata": {},
     "output_type": "execute_result"
    }
   ],
   "source": [
    "order_weight(\"123 1450 99 115111 18498 1397 100000 11\")"
   ]
  },
  {
   "cell_type": "markdown",
   "metadata": {},
   "source": [
    "### 5. Consecutive strings\n",
    "You are given an array strarr of strings and an integer k. Your task is to return the first longest string consisting of k consecutive strings taken in the array."
   ]
  },
  {
   "cell_type": "code",
   "execution_count": 146,
   "metadata": {},
   "outputs": [],
   "source": [
    "def longest_consec(strarr, k):\n",
    "    n = len(strarr)\n",
    "    result = \"\"\n",
    "     \n",
    "    if n == 0 or k > n or k <= 0:\n",
    "        return \"\"\n",
    "\n",
    "    for x in range(n-k+1):\n",
    "        sequence = \"\"\n",
    "        for i in range(k):\n",
    "            sequence = sequence + strarr[i+x]\n",
    "        if len(sequence) > len(result):\n",
    "            result = sequence\n",
    "\n",
    "    return result        "
   ]
  },
  {
   "cell_type": "code",
   "execution_count": 147,
   "metadata": {},
   "outputs": [
    {
     "data": {
      "text/plain": [
       "'wkppqsztdkmvcuwvereiupccauycnjutlvvweqilsfytihvrzlaodfixoyxvyuyvgpck'"
      ]
     },
     "execution_count": 147,
     "metadata": {},
     "output_type": "execute_result"
    }
   ],
   "source": [
    "longest_consec(['itvayloxrp', 'wkppqsztdkmvcuwvereiupccauycnjutlv', 'vweqilsfytihvrzlaodfixoyxvyuyvgpck'],2)"
   ]
  },
  {
   "cell_type": "markdown",
   "metadata": {},
   "source": [
    "### 6. Build Tower\n",
    "Build Tower by the following given argument:\n",
    "number of floors (integer and always greater than 0)."
   ]
  },
  {
   "cell_type": "code",
   "execution_count": 150,
   "metadata": {},
   "outputs": [],
   "source": [
    "def tower_builder(n_floors):\n",
    "    tower = []\n",
    "    for i in range(1, 2 * n_floors, 2):\n",
    "        tower.append((i * '*').center((n_floors * 2) - 1))\n",
    "    return tower"
   ]
  },
  {
   "cell_type": "code",
   "execution_count": 151,
   "metadata": {},
   "outputs": [
    {
     "data": {
      "text/plain": [
       "['    *    ', '   ***   ', '  *****  ', ' ******* ', '*********']"
      ]
     },
     "execution_count": 151,
     "metadata": {},
     "output_type": "execute_result"
    }
   ],
   "source": [
    "tower_builder(5)"
   ]
  },
  {
   "cell_type": "markdown",
   "metadata": {},
   "source": [
    "### 7. Sort the odd\n",
    "You have an array of numbers.\n",
    "Your task is to sort ascending odd numbers but even numbers must be on their places.\n",
    "Zero isn't an odd number and you don't need to move it. If you have an empty array, you need to return it."
   ]
  },
  {
   "cell_type": "code",
   "execution_count": 161,
   "metadata": {},
   "outputs": [],
   "source": [
    "def sort_array(source_array):\n",
    "\n",
    "    if len(source_array) == 0:\n",
    "        return source_array\n",
    "        \n",
    "    for i in range(len(source_array)):\n",
    "        if source_array[i] % 2 == 1:\n",
    "            odd_index = i\n",
    "            current_index = i-1\n",
    "            while(current_index >= 0):\n",
    "                if source_array[current_index] % 2 == 1:\n",
    "                    if source_array[current_index] > source_array[odd_index]:\n",
    "                        temp = source_array[current_index]\n",
    "                        source_array[current_index] = source_array[odd_index]\n",
    "                        source_array[odd_index] = temp\n",
    "                        odd_index = current_index\n",
    "                current_index -= 1\n",
    "                \n",
    "    return source_array\n"
   ]
  },
  {
   "cell_type": "code",
   "execution_count": 178,
   "metadata": {},
   "outputs": [
    {
     "name": "stdout",
     "output_type": "stream",
     "text": [
      "[5, 3, 1]\n"
     ]
    },
    {
     "data": {
      "text/plain": [
       "[1, 3, 2, 8, 5, 4]"
      ]
     },
     "execution_count": 178,
     "metadata": {},
     "output_type": "execute_result"
    }
   ],
   "source": [
    "sort_array([5, 3, 2, 8, 1, 4])"
   ]
  },
  {
   "cell_type": "code",
   "execution_count": 179,
   "metadata": {},
   "outputs": [],
   "source": [
    "# Much better solution\n",
    "def sort_array(arr):\n",
    "  odds = sorted((x for x in arr if x%2 != 0), reverse=True)\n",
    "  print(odds)\n",
    "  return [x if x%2==0 else odds.pop() for x in arr]"
   ]
  },
  {
   "cell_type": "markdown",
   "metadata": {},
   "source": [
    "### 8. The Hashtag Generator\n",
    "\n",
    "The marketing team is spending way too much time typing in hashtags.\n",
    "Let's help them with our own Hashtag Generator!\n",
    "Here's the deal:\n",
    "It must start with a hashtag (#).\n",
    "All words must have their first letter capitalized.\n",
    "If the final result is longer than 140 chars it must return false.\n",
    "If the input or the result is an empty string it must return false."
   ]
  },
  {
   "cell_type": "code",
   "execution_count": null,
   "metadata": {},
   "outputs": [],
   "source": [
    "def generate_hashtag(s):\n",
    "    words = s.split()\n",
    "    hashtag = \"\"\n",
    "    for x in words:\n",
    "        hashtag = hashtag + x.title()\n",
    "    if len(hashtag)==0 or len(hashtag)>139:\n",
    "        return False\n",
    "    return \"#\" + hashtag"
   ]
  },
  {
   "cell_type": "code",
   "execution_count": 181,
   "metadata": {},
   "outputs": [
    {
     "data": {
      "text/plain": [
       "'#HelloThereThanksForTryingMyKata'"
      ]
     },
     "execution_count": 181,
     "metadata": {},
     "output_type": "execute_result"
    }
   ],
   "source": [
    "generate_hashtag(\"Hello there thanks for trying my Kata\")"
   ]
  },
  {
   "cell_type": "markdown",
   "metadata": {},
   "source": [
    "### 9. Human readable duration format\n",
    "\n",
    "Your task in order to complete this Kata is to write a function which formats a duration, given as a number of seconds, in a human-friendly way.\n",
    "The function must accept a non-negative integer. If it is zero, it just returns \"now\". Otherwise, the duration is expressed as a combination of years, days, hours, minutes and seconds."
   ]
  },
  {
   "cell_type": "code",
   "execution_count": 182,
   "metadata": {},
   "outputs": [],
   "source": [
    "def format_duration(seconds):\n",
    "    if seconds == 0:\n",
    "        return \"now\"\n",
    "    years = seconds // 31536000\n",
    "    days = (seconds - 31536000*years) // 86400\n",
    "    hours = (seconds - 31536000*years - 86400*days) // 3600\n",
    "    mins = (seconds - 31536000*years - 86400*days - 3600*hours) // 60\n",
    "    secs = seconds % 60\n",
    "    \n",
    "    return str(years)+\" years, \"+str(days)+\" days, \"+str(hours)+\" hours, \"+str(mins)+\" minutes, and \"+str(secs)+\" seconds\""
   ]
  },
  {
   "cell_type": "code",
   "execution_count": 1,
   "metadata": {},
   "outputs": [],
   "source": [
    "# durations =  [(\"year\", 31536000), \n",
    "#              (\"day\", 86400),\n",
    "#              (\"hour\", 3600),\n",
    "#              (\"minute\", 60),\n",
    "#              (\"second\", 1)]\n",
    "\n",
    "# def format_duration(seconds):\n",
    "\n",
    "#     if seconds == 0:\n",
    "#         return \"now\"\n",
    "\n",
    "#     chunks = []\n",
    "#     for label, secs in durations:\n",
    "#         qty = seconds // secs\n",
    "#         if qty:\n",
    "#             if qty > 1:\n",
    "#                 name += \"s\"\n",
    "#             chunks.append(str(qty) + \" \" + name)\n",
    "\n",
    "#         seconds = seconds % secs\n",
    "\n",
    "#     return ', '.join(chunks[:-1]) + ' and ' + chunks[-1] if len(chunks) > 1 else chunks[0]"
   ]
  },
  {
   "cell_type": "markdown",
   "metadata": {},
   "source": [
    "### 10. The observed PIN\n",
    "\n",
    "Alright, detective, one of our colleagues successfully observed our target person, Robby the robber. We followed him to a secret warehouse, where we assume to find all the stolen stuff. The door to this warehouse is secured by an electronic combination lock. Unfortunately our spy isn't sure about the PIN he saw, when Robby entered it.\n",
    "\n",
    "The keypad has the following layout:\n",
    "\n",
    "┌───┬───┬───┐\n",
    "│ 1 │ 2 │ 3 │\n",
    "├───┼───┼───┤\n",
    "│ 4 │ 5 │ 6 │\n",
    "├───┼───┼───┤\n",
    "│ 7 │ 8 │ 9 │\n",
    "└───┼───┼───┘\n",
    "    │ 0 │\n",
    "    └───┘\n",
    "\n",
    "He noted the PIN 1357, but he also said, it is possible that each of the digits he saw could actually be another adjacent digit (horizontally or vertically, but not diagonally). E.g. instead of the 1 it could also be the 2 or 4. And instead of the 5 it could also be the 2, 4, 6 or 8.\n",
    "\n",
    "He also mentioned, he knows this kind of locks. You can enter an unlimited amount of wrong PINs, they never finally lock the system or sound the alarm. That's why we can try out all possible (*) variations.\n",
    "\n",
    "* possible in sense of: the observed PIN itself and all variations considering the adjacent digits\n",
    "\n",
    "Can you help us to find all those variations? It would be nice to have a function, that returns an array (or a list in Java and C#) of all variations for an observed PIN with a length of 1 to 8 digits. We could name the function getPINs (get_pins in python, GetPINs in C#). But please note that all PINs, the observed one and also the results, must be strings, because of potentially leading '0's. We already prepared some test cases for you.\n",
    "\n",
    "Detective, we count on you!"
   ]
  },
  {
   "cell_type": "code",
   "execution_count": 3,
   "metadata": {},
   "outputs": [],
   "source": [
    "import itertools\n",
    "\n",
    "def get_pins(observed):\n",
    "  \n",
    "  adjacents = {\n",
    "    '0': '08',\n",
    "    '1': '124',\n",
    "    '2': '2135',\n",
    "    '3': '326',\n",
    "    '4': '4157',\n",
    "    '5': '52468',\n",
    "    '6': '6359',\n",
    "    '7': '748',\n",
    "    '8': '85790',\n",
    "    '9': '968'\n",
    "    }\n",
    "  \n",
    "  products = itertools.product(*([adjacents[digit] for digit in observed]))\n",
    "  return [''.join(p) for p in products]"
   ]
  },
  {
   "cell_type": "code",
   "execution_count": 6,
   "metadata": {},
   "outputs": [
    {
     "name": "stdout",
     "output_type": "stream",
     "text": [
      "['1357', '1354', '1358', '1327', '1324', '1328', '1347', '1344', '1348', '1367', '1364', '1368', '1387', '1384', '1388', '1257', '1254', '1258', '1227', '1224', '1228', '1247', '1244', '1248', '1267', '1264', '1268', '1287', '1284', '1288', '1657', '1654', '1658', '1627', '1624', '1628', '1647', '1644', '1648', '1667', '1664', '1668', '1687', '1684', '1688', '2357', '2354', '2358', '2327', '2324', '2328', '2347', '2344', '2348', '2367', '2364', '2368', '2387', '2384', '2388', '2257', '2254', '2258', '2227', '2224', '2228', '2247', '2244', '2248', '2267', '2264', '2268', '2287', '2284', '2288', '2657', '2654', '2658', '2627', '2624', '2628', '2647', '2644', '2648', '2667', '2664', '2668', '2687', '2684', '2688', '4357', '4354', '4358', '4327', '4324', '4328', '4347', '4344', '4348', '4367', '4364', '4368', '4387', '4384', '4388', '4257', '4254', '4258', '4227', '4224', '4228', '4247', '4244', '4248', '4267', '4264', '4268', '4287', '4284', '4288', '4657', '4654', '4658', '4627', '4624', '4628', '4647', '4644', '4648', '4667', '4664', '4668', '4687', '4684', '4688']\n"
     ]
    }
   ],
   "source": [
    "print(get_pins('1357'))"
   ]
  }
 ],
 "metadata": {
  "kernelspec": {
   "display_name": "Python 3",
   "language": "python",
   "name": "python3"
  },
  "language_info": {
   "codemirror_mode": {
    "name": "ipython",
    "version": 3
   },
   "file_extension": ".py",
   "mimetype": "text/x-python",
   "name": "python",
   "nbconvert_exporter": "python",
   "pygments_lexer": "ipython3",
   "version": "3.7.7"
  }
 },
 "nbformat": 4,
 "nbformat_minor": 2
}
