{
 "cells": [
  {
   "cell_type": "markdown",
   "metadata": {},
   "source": [
    "### 1. Are they the \"same\"?\n",
    "Given two arrays a and b write a function comp(a, b) (compSame(a, b) in Clojure) that checks whether the two arrays have the \"same\" elements, with the same multiplicities. \"Same\" means, here, that the elements in b are the elements in a squared, regardless of the order."
   ]
  },
  {
   "cell_type": "code",
   "execution_count": 27,
   "metadata": {},
   "outputs": [],
   "source": [
    "# First solution\n",
    "# This was my first solution which needs tremendeous amount of refactoring!\n",
    "\n",
    "import numpy as np\n",
    "\n",
    "def comp(array1, array2):\n",
    "    if array1 is None or array2 is None:\n",
    "        return False\n",
    "        \n",
    "    for num in array2:\n",
    "        num_sqrt = np.sqrt(num)\n",
    "        pos_found = num_sqrt in array1\n",
    "        neg_found = False\n",
    "        \n",
    "        if pos_found == False:\n",
    "            neg_found = -num_sqrt in array1\n",
    "                \n",
    "        if pos_found == False and neg_found == False:\n",
    "            return False        \n",
    "        \n",
    "        if pos_found == True:\n",
    "            array1.remove(num_sqrt)\n",
    "            \n",
    "        if neg_found == True:\n",
    "            array1.remove(-num_sqrt)\n",
    "                      \n",
    "    return True"
   ]
  },
  {
   "cell_type": "code",
   "execution_count": 28,
   "metadata": {},
   "outputs": [
    {
     "data": {
      "text/plain": [
       "True"
      ]
     },
     "execution_count": 28,
     "metadata": {},
     "output_type": "execute_result"
    }
   ],
   "source": [
    "comp([1, 2, -2, 4, 0], [1, 4, 16, 4, 0])"
   ]
  },
  {
   "cell_type": "code",
   "execution_count": 29,
   "metadata": {},
   "outputs": [
    {
     "data": {
      "text/plain": [
       "False"
      ]
     },
     "execution_count": 29,
     "metadata": {},
     "output_type": "execute_result"
    }
   ],
   "source": [
    "comp([86, 95], [7397, 9025])"
   ]
  },
  {
   "cell_type": "code",
   "execution_count": 30,
   "metadata": {},
   "outputs": [],
   "source": [
    "# Much better solution\n",
    "def comp(array1, array2):\n",
    "    return None not in (array1, array2) and [i^2 for i in sorted(array1)] == sorted(array2)"
   ]
  },
  {
   "cell_type": "code",
   "execution_count": 31,
   "metadata": {},
   "outputs": [
    {
     "data": {
      "text/plain": [
       "False"
      ]
     },
     "execution_count": 31,
     "metadata": {},
     "output_type": "execute_result"
    }
   ],
   "source": [
    "comp([1, 2, -2, 4, 0], [1, 4, 16, 4, 0])"
   ]
  },
  {
   "cell_type": "code",
   "execution_count": 32,
   "metadata": {},
   "outputs": [
    {
     "data": {
      "text/plain": [
       "False"
      ]
     },
     "execution_count": 32,
     "metadata": {},
     "output_type": "execute_result"
    }
   ],
   "source": [
    "comp([86, 95], [7397, 9025])"
   ]
  },
  {
   "cell_type": "markdown",
   "metadata": {},
   "source": [
    "### 2. Persistent Bugger.\n",
    "Write a function, persistence, that takes in a positive parameter num and returns its multiplicative persistence, which is the number of times you must multiply the digits in num until you reach a single digit."
   ]
  },
  {
   "cell_type": "code",
   "execution_count": 65,
   "metadata": {},
   "outputs": [],
   "source": [
    "def persistence(num):\n",
    "    count = 0\n",
    "    while(len(str(num)) > 1):\n",
    "        result = 1\n",
    "        for i in str(num):\n",
    "            result = result * int(i)\n",
    "        num = result\n",
    "        count+=1\n",
    "    return count"
   ]
  },
  {
   "cell_type": "code",
   "execution_count": 66,
   "metadata": {},
   "outputs": [
    {
     "data": {
      "text/plain": [
       "2"
      ]
     },
     "execution_count": 66,
     "metadata": {},
     "output_type": "execute_result"
    }
   ],
   "source": [
    "persistence(396285)"
   ]
  },
  {
   "cell_type": "markdown",
   "metadata": {},
   "source": [
    "### 3. Find the missing letter\n",
    "\n",
    "Write a method that takes an array of consecutive (increasing) letters as input and that returns the missing letter in the array.\n",
    "You will always get an valid array. And it will be always exactly one letter be missing. The length of the array will always be at least 2.\n",
    "The array will always contain letters in only one case.\n",
    "Example:\n",
    "['a','b','c','d','f'] -> 'e' ['O','Q','R','S'] -> 'P'"
   ]
  },
  {
   "cell_type": "code",
   "execution_count": 69,
   "metadata": {},
   "outputs": [],
   "source": [
    "def find_missing_letter(chars):\n",
    "    for i in range(len(chars)):\n",
    "        if ord(chars[i+1]) != ord(chars[i]) + 1:\n",
    "            return chr(ord(chars[i]) + 1)"
   ]
  },
  {
   "cell_type": "code",
   "execution_count": 70,
   "metadata": {},
   "outputs": [
    {
     "data": {
      "text/plain": [
       "'e'"
      ]
     },
     "execution_count": 70,
     "metadata": {},
     "output_type": "execute_result"
    }
   ],
   "source": [
    "find_missing_letter(['a','b','c','d','f'])"
   ]
  },
  {
   "cell_type": "markdown",
   "metadata": {},
   "source": [
    "### 4. Weight for weight\n",
    "\n",
    "My friend John and I are members of the \"Fat to Fit Club (FFC)\". John is worried because each month a list with the weights of members is published and each month he is the last on the list which means he is the heaviest.\n",
    "I am the one who establishes the list so I told him: \"Don't worry any more, I will modify the order of the list\". It was decided to attribute a \"weight\" to numbers. The weight of a number will be from now on the sum of its digits.\n",
    "For example 99 will have \"weight\" 18, 100 will have \"weight\" 1 so in the list 100 will come before 99. Given a string with the weights of FFC members in normal order can you give this string ordered by \"weights\" of these numbers?"
   ]
  },
  {
   "cell_type": "code",
   "execution_count": 79,
   "metadata": {},
   "outputs": [],
   "source": [
    "def order_weight(strng):\n",
    "    sorted_nums = sorted(strng.split())\n",
    "    sorted_nums_by_weight = sorted(sorted_nums, key = calc_weight)\n",
    "    return \" \".join(sorted_nums_by_weight)\n",
    "\n",
    "def calc_weight(numbers):\n",
    "    return sum([int(i) for i in numbers])"
   ]
  },
  {
   "cell_type": "code",
   "execution_count": 82,
   "metadata": {},
   "outputs": [
    {
     "data": {
      "text/plain": [
       "'100000 11 123 115111 1450 99 1397 18498'"
      ]
     },
     "execution_count": 82,
     "metadata": {},
     "output_type": "execute_result"
    }
   ],
   "source": [
    "order_weight(\"123 1450 99 115111 18498 1397 100000 11\")"
   ]
  },
  {
   "cell_type": "markdown",
   "metadata": {},
   "source": [
    "### 5. Consecutive strings\n",
    "You are given an array strarr of strings and an integer k. Your task is to return the first longest string consisting of k consecutive strings taken in the array."
   ]
  },
  {
   "cell_type": "code",
   "execution_count": 146,
   "metadata": {},
   "outputs": [],
   "source": [
    "def longest_consec(strarr, k):\n",
    "    n = len(strarr)\n",
    "    result = \"\"\n",
    "     \n",
    "    if n == 0 or k > n or k <= 0:\n",
    "        return \"\"\n",
    "\n",
    "    for x in range(n-k+1):\n",
    "        sequence = \"\"\n",
    "        for i in range(k):\n",
    "            sequence = sequence + strarr[i+x]\n",
    "        if len(sequence) > len(result):\n",
    "            result = sequence\n",
    "\n",
    "    return result        "
   ]
  },
  {
   "cell_type": "code",
   "execution_count": 147,
   "metadata": {},
   "outputs": [
    {
     "data": {
      "text/plain": [
       "'wkppqsztdkmvcuwvereiupccauycnjutlvvweqilsfytihvrzlaodfixoyxvyuyvgpck'"
      ]
     },
     "execution_count": 147,
     "metadata": {},
     "output_type": "execute_result"
    }
   ],
   "source": [
    "longest_consec(['itvayloxrp', 'wkppqsztdkmvcuwvereiupccauycnjutlv', 'vweqilsfytihvrzlaodfixoyxvyuyvgpck'],2)"
   ]
  },
  {
   "cell_type": "markdown",
   "metadata": {},
   "source": [
    "### 6. Build Tower\n",
    "Build Tower by the following given argument:\n",
    "number of floors (integer and always greater than 0)."
   ]
  },
  {
   "cell_type": "code",
   "execution_count": 150,
   "metadata": {},
   "outputs": [],
   "source": [
    "def tower_builder(n_floors):\n",
    "    tower = []\n",
    "    for i in range(1, 2 * n_floors, 2):\n",
    "        tower.append((i * '*').center((n_floors * 2) - 1))\n",
    "    return tower"
   ]
  },
  {
   "cell_type": "code",
   "execution_count": 151,
   "metadata": {},
   "outputs": [
    {
     "data": {
      "text/plain": [
       "['    *    ', '   ***   ', '  *****  ', ' ******* ', '*********']"
      ]
     },
     "execution_count": 151,
     "metadata": {},
     "output_type": "execute_result"
    }
   ],
   "source": [
    "tower_builder(5)"
   ]
  },
  {
   "cell_type": "markdown",
   "metadata": {},
   "source": [
    "### 7. Sort the odd\n",
    "You have an array of numbers.\n",
    "Your task is to sort ascending odd numbers but even numbers must be on their places.\n",
    "Zero isn't an odd number and you don't need to move it. If you have an empty array, you need to return it."
   ]
  },
  {
   "cell_type": "code",
   "execution_count": 161,
   "metadata": {},
   "outputs": [],
   "source": [
    "def sort_array(source_array):\n",
    "\n",
    "    if len(source_array) == 0:\n",
    "        return source_array\n",
    "        \n",
    "    for i in range(len(source_array)):\n",
    "        if source_array[i] % 2 == 1:\n",
    "            odd_index = i\n",
    "            current_index = i-1\n",
    "            while(current_index >= 0):\n",
    "                if source_array[current_index] % 2 == 1:\n",
    "                    if source_array[current_index] > source_array[odd_index]:\n",
    "                        temp = source_array[current_index]\n",
    "                        source_array[current_index] = source_array[odd_index]\n",
    "                        source_array[odd_index] = temp\n",
    "                        odd_index = current_index\n",
    "                current_index -= 1\n",
    "                \n",
    "    return source_array\n"
   ]
  },
  {
   "cell_type": "code",
   "execution_count": 178,
   "metadata": {},
   "outputs": [
    {
     "name": "stdout",
     "output_type": "stream",
     "text": [
      "[5, 3, 1]\n"
     ]
    },
    {
     "data": {
      "text/plain": [
       "[1, 3, 2, 8, 5, 4]"
      ]
     },
     "execution_count": 178,
     "metadata": {},
     "output_type": "execute_result"
    }
   ],
   "source": [
    "sort_array([5, 3, 2, 8, 1, 4])"
   ]
  },
  {
   "cell_type": "code",
   "execution_count": 179,
   "metadata": {},
   "outputs": [],
   "source": [
    "# Much better solution\n",
    "def sort_array(arr):\n",
    "  odds = sorted((x for x in arr if x%2 != 0), reverse=True)\n",
    "  print(odds)\n",
    "  return [x if x%2==0 else odds.pop() for x in arr]"
   ]
  }
 ],
 "metadata": {
  "kernelspec": {
   "display_name": "Python 3",
   "language": "python",
   "name": "python3"
  },
  "language_info": {
   "codemirror_mode": {
    "name": "ipython",
    "version": 3
   },
   "file_extension": ".py",
   "mimetype": "text/x-python",
   "name": "python",
   "nbconvert_exporter": "python",
   "pygments_lexer": "ipython3",
   "version": "3.7.7"
  }
 },
 "nbformat": 4,
 "nbformat_minor": 2
}
